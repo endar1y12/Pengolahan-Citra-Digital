{
  "nbformat": 4,
  "nbformat_minor": 0,
  "metadata": {
    "colab": {
      "provenance": [],
      "authorship_tag": "ABX9TyNdN4Nax5tOfeADq5BoOkQG",
      "include_colab_link": true
    },
    "kernelspec": {
      "name": "python3",
      "display_name": "Python 3"
    },
    "language_info": {
      "name": "python"
    }
  },
  "cells": [
    {
      "cell_type": "markdown",
      "metadata": {
        "id": "view-in-github",
        "colab_type": "text"
      },
      "source": [
        "<a href=\"https://colab.research.google.com/github/endar1y12/Pengolahan-Citra-Digital/blob/main/Pertemuan_11.ipynb\" target=\"_parent\"><img src=\"https://colab.research.google.com/assets/colab-badge.svg\" alt=\"Open In Colab\"/></a>"
      ]
    },
    {
      "cell_type": "markdown",
      "source": [
        "# ambil setiap baris\n",
        "#lakukan looping dari awal sampai akhir\n",
        "#nilai[i] = nilai[i+1]\n",
        "#counter + 1\n",
        "#else:\n",
        "#break\n",
        "#counter + nilai [i]"
      ],
      "metadata": {
        "id": "JQd7qpDvbbIX"
      }
    },
    {
      "cell_type": "markdown",
      "source": [
        "RLE"
      ],
      "metadata": {
        "id": "_HXcLSsdtd5A"
      }
    },
    {
      "cell_type": "code",
      "source": [
        "def rle_encode(row_img):\n",
        "  result =[]\n",
        "  run = 1\n",
        "  for i in range(1,len(row_img)):\n",
        "    if row_img[i] ==row_img[i-1]:\n",
        "      run +=1\n",
        "    else:\n",
        "      result.append((run,row_img[i-1]))\n",
        "      run = 1\n",
        "\n",
        "  result.append((run,row_img[-1]))\n",
        "  return result\n",
        "\n",
        "def rle_decode(encoded):\n",
        "  result =[]\n",
        "  for run,value in encoded:\n",
        "    result.extend(run * str(value))\n",
        "  int_result = [int(a) for a in result]\n",
        "  return int_result\n",
        "print(rle_encode([1,2,2,2,2,0,0,0,0])) #perhitungan satu baris\n",
        "print(rle_decode([(1, 1), (4, 2), (4, 0)]))"
      ],
      "metadata": {
        "colab": {
          "base_uri": "https://localhost:8080/"
        },
        "id": "dW0mpLb_a25R",
        "outputId": "495fa470-48a4-4ca1-b6db-3e50ee436bda"
      },
      "execution_count": null,
      "outputs": [
        {
          "output_type": "stream",
          "name": "stdout",
          "text": [
            "[(1, 1), (4, 2), (4, 0)]\n",
            "[1, 2, 2, 2, 2, 0, 0, 0, 0]\n"
          ]
        }
      ]
    },
    {
      "cell_type": "code",
      "source": [
        "def rle_encode_img(image):\n",
        "  result = []\n",
        "  for row in image:\n",
        "    result.append(rle_encode(row))\n",
        "  return result\n",
        "\n",
        "def rle_decode_img(encoded_image):\n",
        "  result = []\n",
        "  for row in encoded_image:\n",
        "    result.append(rle_encode(row))\n",
        "  return result\n",
        "\n"
      ],
      "metadata": {
        "id": "G2eQFujSlfZq"
      },
      "execution_count": null,
      "outputs": []
    },
    {
      "cell_type": "code",
      "source": [
        "import numpy as np\n",
        "\n",
        "image = np.array([[1,1,1,1,1,0,0],\n",
        "                 [0,0,0,0,0,1,1],\n",
        "                 [0,0,0,1,1,1,1]])\n",
        "\n",
        "hasil = (rle_encode_img(image))\n",
        "print(hasil)\n",
        "print(rle_decode_img(hasil))"
      ],
      "metadata": {
        "colab": {
          "base_uri": "https://localhost:8080/"
        },
        "id": "j5Jf3PFny8nw",
        "outputId": "467102d6-3d3f-4ff7-e91a-d67dd9505c0b"
      },
      "execution_count": null,
      "outputs": [
        {
          "output_type": "stream",
          "name": "stdout",
          "text": [
            "[[(5, 1), (2, 0)], [(5, 0), (2, 1)], [(3, 0), (4, 1)]]\n",
            "[[(1, (5, 1)), (1, (2, 0))], [(1, (5, 0)), (1, (2, 1))], [(1, (3, 0)), (1, (4, 1))]]\n"
          ]
        }
      ]
    }
  ]
}