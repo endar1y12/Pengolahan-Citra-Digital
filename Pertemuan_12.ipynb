{
  "nbformat": 4,
  "nbformat_minor": 0,
  "metadata": {
    "colab": {
      "provenance": [],
      "authorship_tag": "ABX9TyPplblB2C+ZKTa01yiJNN7c",
      "include_colab_link": true
    },
    "kernelspec": {
      "name": "python3",
      "display_name": "Python 3"
    },
    "language_info": {
      "name": "python"
    }
  },
  "cells": [
    {
      "cell_type": "markdown",
      "metadata": {
        "id": "view-in-github",
        "colab_type": "text"
      },
      "source": [
        "<a href=\"https://colab.research.google.com/github/endar1y12/Pengolahan-Citra-Digital/blob/main/Pertemuan_12.ipynb\" target=\"_parent\"><img src=\"https://colab.research.google.com/assets/colab-badge.svg\" alt=\"Open In Colab\"/></a>"
      ]
    },
    {
      "cell_type": "markdown",
      "source": [
        "#WATERMARKING DENGAN LEAST SIGNIFICANT BIT"
      ],
      "metadata": {
        "id": "yyj5RQPBgA6e"
      }
    },
    {
      "cell_type": "code",
      "execution_count": null,
      "metadata": {
        "colab": {
          "base_uri": "https://localhost:8080/"
        },
        "id": "sn9ndo5Fa6qu",
        "outputId": "7d3281b4-fb19-4106-9a9b-7e15174426b3"
      },
      "outputs": [
        {
          "output_type": "execute_result",
          "data": {
            "text/plain": [
              "65"
            ]
          },
          "metadata": {},
          "execution_count": 4
        }
      ],
      "source": [
        "huruf = \"A\"\n",
        "asc = ord(huruf) #mengubah ke ASCII\n",
        "asc"
      ]
    },
    {
      "cell_type": "code",
      "source": [
        "bin(asc,'08b') #untuk mengubah ASCII ke biner"
      ],
      "metadata": {
        "colab": {
          "base_uri": "https://localhost:8080/",
          "height": 35
        },
        "id": "Dqzddr7ZgVFA",
        "outputId": "ae99c21a-ebca-4a21-c222-6dfa2e096013"
      },
      "execution_count": null,
      "outputs": [
        {
          "output_type": "execute_result",
          "data": {
            "text/plain": [
              "'1000001'"
            ],
            "application/vnd.google.colaboratory.intrinsic+json": {
              "type": "string"
            }
          },
          "metadata": {},
          "execution_count": 5
        }
      ]
    },
    {
      "cell_type": "code",
      "source": [
        "import math\n",
        "bin = '10000001' # mengubah biner ke ASCII atau desimal\n",
        "int(bin,2)"
      ],
      "metadata": {
        "colab": {
          "base_uri": "https://localhost:8080/"
        },
        "id": "79U6LkK_gk_I",
        "outputId": "9773772f-0e1b-41e8-fd13-d388836b3561"
      },
      "execution_count": null,
      "outputs": [
        {
          "output_type": "execute_result",
          "data": {
            "text/plain": [
              "129"
            ]
          },
          "metadata": {},
          "execution_count": 9
        }
      ]
    },
    {
      "cell_type": "code",
      "source": [
        "chr(65) #mengubah ascii ke karakter"
      ],
      "metadata": {
        "colab": {
          "base_uri": "https://localhost:8080/",
          "height": 35
        },
        "id": "GJhr6wKUjpd5",
        "outputId": "dc1ab872-58ea-40a2-a23f-848d4f9d7ee3"
      },
      "execution_count": null,
      "outputs": [
        {
          "output_type": "execute_result",
          "data": {
            "text/plain": [
              "'A'"
            ],
            "application/vnd.google.colaboratory.intrinsic+json": {
              "type": "string"
            }
          },
          "metadata": {},
          "execution_count": 10
        }
      ]
    },
    {
      "cell_type": "markdown",
      "source": [
        "#LSB -> menyisipkan pesan tersembunyi"
      ],
      "metadata": {
        "id": "xehbK-V7x7vS"
      }
    },
    {
      "cell_type": "code",
      "source": [
        "import numpy as np\n",
        "\n",
        "img = np.random.randint(0,255,size =(4,4))\n",
        "img"
      ],
      "metadata": {
        "colab": {
          "base_uri": "https://localhost:8080/"
        },
        "id": "2bZMcw-ix687",
        "outputId": "cf888fd2-6a8b-481c-81ac-b9161c79a0ba"
      },
      "execution_count": null,
      "outputs": [
        {
          "output_type": "execute_result",
          "data": {
            "text/plain": [
              "array([[205, 188, 124, 188],\n",
              "       [174,   3, 171, 218],\n",
              "       [ 52, 155, 169,  33],\n",
              "       [ 16, 115,  61, 147]])"
            ]
          },
          "metadata": {},
          "execution_count": 1
        }
      ]
    },
    {
      "cell_type": "markdown",
      "source": [
        "berfungsi menginput pesan"
      ],
      "metadata": {
        "id": "-BRSot09yfi9"
      }
    },
    {
      "cell_type": "code",
      "source": [
        "def text_to_binary(text): #untuk mengubah text ke biner\n",
        "  binary= \"\"\n",
        "  for tx in text: #mengambil setiap huruf dari pesan yang disembunyikan\n",
        "    binary += format(ord(tx),'08b')#mengubah ke dalam asc\n",
        "  return binary\n",
        "\n",
        "def input_message(img,binary_message): # untuk menginputkan pesan pada gambar yang diinput\n",
        "  flat_img = img.flatten() #membuat gambar 2D menjadi flat agar mempermudah index nya\n",
        "  for i in range(len(binary_message)):\n",
        "    binary_pixel = list(format(flat_img[i],'08b'))  #pixel ini biner nya apa\n",
        "    binary_pixel[-1] = binary_message[i] #biner yang paling belakang (-1)\n",
        "    flat_img[i]=int(''.join(binary_pixel),2)#mengubah biner ke desimal -flat img lama disisipi flat img baru\n",
        "  return flat_img.reshape(img.shape) #mengubah flat (1) menjadi bentuk asal\n",
        "\n",
        "binary = text_to_binary('Nama : Daryanti')\n",
        "enc_img = input_message(img,binary)\n",
        "enc_img"
      ],
      "metadata": {
        "colab": {
          "base_uri": "https://localhost:8080/",
          "height": 339
        },
        "id": "A2LB1tssyfOW",
        "outputId": "f0282a40-5e04-482b-edd0-27bb7deed0b3"
      },
      "execution_count": null,
      "outputs": [
        {
          "output_type": "error",
          "ename": "IndexError",
          "evalue": "ignored",
          "traceback": [
            "\u001b[0;31m---------------------------------------------------------------------------\u001b[0m",
            "\u001b[0;31mIndexError\u001b[0m                                Traceback (most recent call last)",
            "\u001b[0;32m<ipython-input-2-a11f4c5c766f>\u001b[0m in \u001b[0;36m<module>\u001b[0;34m\u001b[0m\n\u001b[1;32m     14\u001b[0m \u001b[0;34m\u001b[0m\u001b[0m\n\u001b[1;32m     15\u001b[0m \u001b[0mbinary\u001b[0m \u001b[0;34m=\u001b[0m \u001b[0mtext_to_binary\u001b[0m\u001b[0;34m(\u001b[0m\u001b[0;34m'Nama : Daryanti'\u001b[0m\u001b[0;34m)\u001b[0m\u001b[0;34m\u001b[0m\u001b[0;34m\u001b[0m\u001b[0m\n\u001b[0;32m---> 16\u001b[0;31m \u001b[0menc_img\u001b[0m \u001b[0;34m=\u001b[0m \u001b[0minput_message\u001b[0m\u001b[0;34m(\u001b[0m\u001b[0mimg\u001b[0m\u001b[0;34m,\u001b[0m\u001b[0mbinary\u001b[0m\u001b[0;34m)\u001b[0m\u001b[0;34m\u001b[0m\u001b[0;34m\u001b[0m\u001b[0m\n\u001b[0m\u001b[1;32m     17\u001b[0m \u001b[0menc_img\u001b[0m\u001b[0;34m\u001b[0m\u001b[0;34m\u001b[0m\u001b[0m\n",
            "\u001b[0;32m<ipython-input-2-a11f4c5c766f>\u001b[0m in \u001b[0;36minput_message\u001b[0;34m(img, binary_message)\u001b[0m\n\u001b[1;32m      8\u001b[0m   \u001b[0mflat_img\u001b[0m \u001b[0;34m=\u001b[0m \u001b[0mimg\u001b[0m\u001b[0;34m.\u001b[0m\u001b[0mflatten\u001b[0m\u001b[0;34m(\u001b[0m\u001b[0;34m)\u001b[0m \u001b[0;31m#membuat gambar 2D menjadi flat agar mempermudah index nya\u001b[0m\u001b[0;34m\u001b[0m\u001b[0;34m\u001b[0m\u001b[0m\n\u001b[1;32m      9\u001b[0m   \u001b[0;32mfor\u001b[0m \u001b[0mi\u001b[0m \u001b[0;32min\u001b[0m \u001b[0mrange\u001b[0m\u001b[0;34m(\u001b[0m\u001b[0mlen\u001b[0m\u001b[0;34m(\u001b[0m\u001b[0mbinary_message\u001b[0m\u001b[0;34m)\u001b[0m\u001b[0;34m)\u001b[0m\u001b[0;34m:\u001b[0m\u001b[0;34m\u001b[0m\u001b[0;34m\u001b[0m\u001b[0m\n\u001b[0;32m---> 10\u001b[0;31m     \u001b[0mbinary_pixel\u001b[0m \u001b[0;34m=\u001b[0m \u001b[0mlist\u001b[0m\u001b[0;34m(\u001b[0m\u001b[0mformat\u001b[0m\u001b[0;34m(\u001b[0m\u001b[0mflat_img\u001b[0m\u001b[0;34m[\u001b[0m\u001b[0mi\u001b[0m\u001b[0;34m]\u001b[0m\u001b[0;34m,\u001b[0m\u001b[0;34m'08b'\u001b[0m\u001b[0;34m)\u001b[0m\u001b[0;34m)\u001b[0m  \u001b[0;31m#pixel ini biner nya apa\u001b[0m\u001b[0;34m\u001b[0m\u001b[0;34m\u001b[0m\u001b[0m\n\u001b[0m\u001b[1;32m     11\u001b[0m     \u001b[0mbinary_pixel\u001b[0m\u001b[0;34m[\u001b[0m\u001b[0;34m-\u001b[0m\u001b[0;36m1\u001b[0m\u001b[0;34m]\u001b[0m \u001b[0;34m=\u001b[0m \u001b[0mbinary_message\u001b[0m\u001b[0;34m[\u001b[0m\u001b[0mi\u001b[0m\u001b[0;34m]\u001b[0m \u001b[0;31m#biner yang paling belakang (-1)\u001b[0m\u001b[0;34m\u001b[0m\u001b[0;34m\u001b[0m\u001b[0m\n\u001b[1;32m     12\u001b[0m     \u001b[0mflat_img\u001b[0m\u001b[0;34m[\u001b[0m\u001b[0mi\u001b[0m\u001b[0;34m]\u001b[0m\u001b[0;34m=\u001b[0m\u001b[0mint\u001b[0m\u001b[0;34m(\u001b[0m\u001b[0;34m''\u001b[0m\u001b[0;34m.\u001b[0m\u001b[0mjoin\u001b[0m\u001b[0;34m(\u001b[0m\u001b[0mbinary_pixel\u001b[0m\u001b[0;34m)\u001b[0m\u001b[0;34m,\u001b[0m\u001b[0;36m2\u001b[0m\u001b[0;34m)\u001b[0m\u001b[0;31m#mengubah biner ke desimal -flat img lama disisipi flat img baru\u001b[0m\u001b[0;34m\u001b[0m\u001b[0;34m\u001b[0m\u001b[0m\n",
            "\u001b[0;31mIndexError\u001b[0m: index 16 is out of bounds for axis 0 with size 16"
          ]
        }
      ]
    },
    {
      "cell_type": "markdown",
      "source": [
        "fungsi extract\n"
      ],
      "metadata": {
        "id": "yPBwTFXW3CVi"
      }
    },
    {
      "cell_type": "code",
      "source": [
        "def binary_to_text(binary_text):\n",
        "  bin_list = [binary_text[a:a+8] for a in range(0,len(binary_text),8)]\n",
        "  text = \"\"\n",
        "  for binary in bin_list:\n",
        "    text += chr(int(binary,2))\n",
        "  return text\n",
        "\n",
        "def extract_lsb(enc_img):\n",
        "  flat_img = enc_img.flatten()\n",
        "  lsb = \"\"\n",
        "  for pix in flat_img:\n",
        "    lsb += list(format(pix,'08b'))[-1]\n",
        "  return lsb\n",
        "\n",
        "lsb = extract_lsb(enc_img)\n",
        "binary_to_text(lsb)"
      ],
      "metadata": {
        "colab": {
          "base_uri": "https://localhost:8080/",
          "height": 36
        },
        "id": "BtLph6TyERjE",
        "outputId": "e8a3a7c5-f82c-4c61-c3a8-a0d3882993f4"
      },
      "execution_count": null,
      "outputs": [
        {
          "output_type": "execute_result",
          "data": {
            "text/plain": [
              "'Hl'"
            ],
            "application/vnd.google.colaboratory.intrinsic+json": {
              "type": "string"
            }
          },
          "metadata": {},
          "execution_count": 54
        }
      ]
    }
  ]
}