{
  "nbformat": 4,
  "nbformat_minor": 0,
  "metadata": {
    "colab": {
      "provenance": [],
      "authorship_tag": "ABX9TyM9mxKWl5OPBU6Vr+a7dN6X",
      "include_colab_link": true
    },
    "kernelspec": {
      "name": "python3",
      "display_name": "Python 3"
    },
    "language_info": {
      "name": "python"
    }
  },
  "cells": [
    {
      "cell_type": "markdown",
      "metadata": {
        "id": "view-in-github",
        "colab_type": "text"
      },
      "source": [
        "<a href=\"https://colab.research.google.com/github/endar1y12/Pengolahan-Citra-Digital/blob/main/Pertemuan_12.ipynb\" target=\"_parent\"><img src=\"https://colab.research.google.com/assets/colab-badge.svg\" alt=\"Open In Colab\"/></a>"
      ]
    },
    {
      "cell_type": "markdown",
      "source": [
        "#WATERMARKING DENGAN LEAST SIGNIFICANT BIT"
      ],
      "metadata": {
        "id": "yyj5RQPBgA6e"
      }
    },
    {
      "cell_type": "code",
      "execution_count": null,
      "metadata": {
        "colab": {
          "base_uri": "https://localhost:8080/"
        },
        "id": "sn9ndo5Fa6qu",
        "outputId": "7d3281b4-fb19-4106-9a9b-7e15174426b3"
      },
      "outputs": [
        {
          "output_type": "execute_result",
          "data": {
            "text/plain": [
              "65"
            ]
          },
          "metadata": {},
          "execution_count": 4
        }
      ],
      "source": [
        "huruf = \"A\"\n",
        "asc = ord(huruf) #mengubah ke ASCII\n",
        "asc"
      ]
    },
    {
      "cell_type": "code",
      "source": [
        "bin(asc,'08b') #untuk mengubah ASCII ke biner"
      ],
      "metadata": {
        "colab": {
          "base_uri": "https://localhost:8080/",
          "height": 35
        },
        "id": "Dqzddr7ZgVFA",
        "outputId": "ae99c21a-ebca-4a21-c222-6dfa2e096013"
      },
      "execution_count": null,
      "outputs": [
        {
          "output_type": "execute_result",
          "data": {
            "text/plain": [
              "'1000001'"
            ],
            "application/vnd.google.colaboratory.intrinsic+json": {
              "type": "string"
            }
          },
          "metadata": {},
          "execution_count": 5
        }
      ]
    },
    {
      "cell_type": "code",
      "source": [
        "import math\n",
        "bin = '10000001' # mengubah biner ke ASCII atau desimal\n",
        "int(bin,2)"
      ],
      "metadata": {
        "colab": {
          "base_uri": "https://localhost:8080/"
        },
        "id": "79U6LkK_gk_I",
        "outputId": "9773772f-0e1b-41e8-fd13-d388836b3561"
      },
      "execution_count": null,
      "outputs": [
        {
          "output_type": "execute_result",
          "data": {
            "text/plain": [
              "129"
            ]
          },
          "metadata": {},
          "execution_count": 9
        }
      ]
    },
    {
      "cell_type": "code",
      "source": [
        "chr(65) #mengubah ascii ke karakter"
      ],
      "metadata": {
        "colab": {
          "base_uri": "https://localhost:8080/",
          "height": 35
        },
        "id": "GJhr6wKUjpd5",
        "outputId": "dc1ab872-58ea-40a2-a23f-848d4f9d7ee3"
      },
      "execution_count": null,
      "outputs": [
        {
          "output_type": "execute_result",
          "data": {
            "text/plain": [
              "'A'"
            ],
            "application/vnd.google.colaboratory.intrinsic+json": {
              "type": "string"
            }
          },
          "metadata": {},
          "execution_count": 10
        }
      ]
    },
    {
      "cell_type": "markdown",
      "source": [
        "#LSB -> menyisipkan pesan tersembunyi"
      ],
      "metadata": {
        "id": "xehbK-V7x7vS"
      }
    },
    {
      "cell_type": "code",
      "source": [
        "import numpy as np\n",
        "\n",
        "img = np.random.randint(0,255,size =(4,4))\n",
        "img"
      ],
      "metadata": {
        "colab": {
          "base_uri": "https://localhost:8080/"
        },
        "id": "2bZMcw-ix687",
        "outputId": "24fcb5d4-c90e-4899-c753-37d952c64253"
      },
      "execution_count": null,
      "outputs": [
        {
          "output_type": "execute_result",
          "data": {
            "text/plain": [
              "array([[ 58,  39, 224,  27],\n",
              "       [202,   5,  88, 216],\n",
              "       [221, 179,  80, 204],\n",
              "       [153,  31, 220,  33]])"
            ]
          },
          "metadata": {},
          "execution_count": 23
        }
      ]
    },
    {
      "cell_type": "markdown",
      "source": [
        "berfungsi menginput pesan"
      ],
      "metadata": {
        "id": "-BRSot09yfi9"
      }
    },
    {
      "cell_type": "code",
      "source": [
        "def text_to_binary(text): #untuk mengubah text ke biner\n",
        "  binary= \"\"\n",
        "  for tx in text: #mengambil setiap huruf dari pesan yang disembunyikan\n",
        "    binary += format(ord(tx),'08b')#mengubah ke dalam asc\n",
        "  return binary\n",
        "\n",
        "def input_message(img,binary_message): # untuk menginputkan pesan pada gambar yang diinput\n",
        "  flat_img = img.flatten() #membuat gambar 2D menjadi flat agar mempermudah index nya\n",
        "  for i in range(len(binary_message)):\n",
        "    binary_pixel = list(format(flat_img[i],'08b'))  #pixel ini biner nya apa\n",
        "    binary_pixel[-1] = binary_message[i] #biner yang paling belakang (-1)\n",
        "    flat_img[i]=int(''.join(binary_pixel),2)#mengubah biner ke desimal -flat img lama disisipi flat img baru\n",
        "  return flat_img.reshape(img.shape) #mengubah flat (1) menjadi bentuk asal\n",
        "\n",
        "binary = text_to_binary('Hl')\n",
        "enc_img = input_message(img,binary)\n",
        "enc_img"
      ],
      "metadata": {
        "colab": {
          "base_uri": "https://localhost:8080/",
          "height": 0
        },
        "id": "A2LB1tssyfOW",
        "outputId": "cefb4e84-2a5d-4776-bd31-917896c60470"
      },
      "execution_count": 56,
      "outputs": [
        {
          "output_type": "execute_result",
          "data": {
            "text/plain": [
              "array([[ 58,  39, 224,  26],\n",
              "       [203,   4,  88, 216],\n",
              "       [220, 179,  81, 204],\n",
              "       [153,  31, 220,  32]])"
            ]
          },
          "metadata": {},
          "execution_count": 56
        }
      ]
    },
    {
      "cell_type": "markdown",
      "source": [
        "fungsi extract\n"
      ],
      "metadata": {
        "id": "yPBwTFXW3CVi"
      }
    },
    {
      "cell_type": "code",
      "source": [
        "def binary_to_text(binary_text):\n",
        "  bin_list = [binary_text[a:a+8] for a in range(0,len(binary_text),8)]\n",
        "  text = \"\"\n",
        "  for binary in bin_list:\n",
        "    text += chr(int(binary,2))\n",
        "  return text\n",
        "\n",
        "def extract_lsb(enc_img):\n",
        "  flat_img = enc_img.flatten()\n",
        "  lsb = \"\"\n",
        "  for pix in flat_img:\n",
        "    lsb += list(format(pix,'08b'))[-1]\n",
        "  return lsb\n",
        "\n",
        "lsb = extract_lsb(enc_img)\n",
        "binary_to_text(lsb)"
      ],
      "metadata": {
        "colab": {
          "base_uri": "https://localhost:8080/",
          "height": 36
        },
        "id": "BtLph6TyERjE",
        "outputId": "e8a3a7c5-f82c-4c61-c3a8-a0d3882993f4"
      },
      "execution_count": 54,
      "outputs": [
        {
          "output_type": "execute_result",
          "data": {
            "text/plain": [
              "'Hl'"
            ],
            "application/vnd.google.colaboratory.intrinsic+json": {
              "type": "string"
            }
          },
          "metadata": {},
          "execution_count": 54
        }
      ]
    }
  ]
}