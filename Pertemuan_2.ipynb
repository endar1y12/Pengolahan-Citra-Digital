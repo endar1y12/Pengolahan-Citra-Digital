{
  "nbformat": 4,
  "nbformat_minor": 0,
  "metadata": {
    "colab": {
      "provenance": [],
      "authorship_tag": "ABX9TyOgremwDsAJk49gFnMzsobC",
      "include_colab_link": true
    },
    "kernelspec": {
      "name": "python3",
      "display_name": "Python 3"
    },
    "language_info": {
      "name": "python"
    }
  },
  "cells": [
    {
      "cell_type": "markdown",
      "metadata": {
        "id": "view-in-github",
        "colab_type": "text"
      },
      "source": [
        "<a href=\"https://colab.research.google.com/github/endar1y12/Pengolahan-Citra-Digital/blob/main/Pertemuan_2.ipynb\" target=\"_parent\"><img src=\"https://colab.research.google.com/assets/colab-badge.svg\" alt=\"Open In Colab\"/></a>"
      ]
    },
    {
      "cell_type": "code",
      "execution_count": null,
      "metadata": {
        "colab": {
          "base_uri": "https://localhost:8080/"
        },
        "id": "yqc8eJdQ5sFu",
        "outputId": "183899bc-a0a2-4cf4-aa11-28de82f65e02"
      },
      "outputs": [
        {
          "output_type": "execute_result",
          "data": {
            "text/plain": [
              "6"
            ]
          },
          "metadata": {},
          "execution_count": 21
        }
      ],
      "source": [
        "import numpy as np\n",
        "\n",
        "arr=np.array([[3,6],[9,7]])\n",
        "arr[0,1]"
      ]
    },
    {
      "cell_type": "code",
      "source": [
        "#soal 1\n",
        "import numpy as np\n",
        "\n",
        "# arr=np.array([[5,8],[15,8],[5,12],[15,12]])\n",
        "# p=arr[1,0]-arr[0,0]\n",
        "# l=arr[2,1]-arr[0,1]\n",
        "\n",
        "# luas = p*l\n",
        "# print(luas)\n",
        "\n",
        "A=np.array([5,8])\n",
        "B=np.array([15,8])\n",
        "C=np.array([5,12])\n",
        "D=np.array([15,12])\n",
        "\n",
        "def luas(a,b,c,d):\n",
        "  v1=b-a\n",
        "  v2=c-a\n",
        "  return abs(np.cross(v1,v2))\n",
        "luas(A,B,C,D)\n",
        "\n"
      ],
      "metadata": {
        "colab": {
          "base_uri": "https://localhost:8080/"
        },
        "id": "q24E2P8j6yDm",
        "outputId": "47c473df-f508-4310-969f-d2e387723817"
      },
      "execution_count": null,
      "outputs": [
        {
          "output_type": "execute_result",
          "data": {
            "text/plain": [
              "40"
            ]
          },
          "metadata": {},
          "execution_count": 35
        }
      ]
    },
    {
      "cell_type": "code",
      "source": [
        "#soal 2\n",
        "import numpy as np\n",
        "\n",
        "# a=np.random.rand(500,500)\n",
        "# np.mean(a)\n",
        "\n",
        "M = np.random.randint(256,size=(500,500))\n",
        "def mean_matrix(m):\n",
        "  return np.sum(m)/(500*500)\n",
        "\n",
        "mean_matrix(M)\n",
        "\n",
        "\n"
      ],
      "metadata": {
        "colab": {
          "base_uri": "https://localhost:8080/"
        },
        "id": "WolC_ZjP7Ktx",
        "outputId": "1ce298f6-284e-40fb-a4eb-4572a726e573"
      },
      "execution_count": null,
      "outputs": [
        {
          "output_type": "execute_result",
          "data": {
            "text/plain": [
              "127.483436"
            ]
          },
          "metadata": {},
          "execution_count": 39
        }
      ]
    },
    {
      "cell_type": "code",
      "source": [
        "#soal 3\n",
        "import numpy as np\n",
        "\n",
        "# a= np.array((5,6))\n",
        "# b=np.array((7,10))\n",
        "# dist= np.linalg.norm(a-b)\n",
        "# print(dist)\n",
        "\n",
        "\n",
        "x= np.array((5,6))\n",
        "y=np.array((7,10))\n",
        "\n",
        "def euc(x,y):\n",
        "  c = x-y\n",
        "  h1= np.sqrt(c[0]**2+c[1]**2)\n",
        "  h2= np.linalg.norm(c)\n",
        "  return h1,h2\n",
        "euc(x,y)\n"
      ],
      "metadata": {
        "colab": {
          "base_uri": "https://localhost:8080/"
        },
        "id": "r-1EKY6D9toK",
        "outputId": "aa9d6637-6205-4a7a-c0ed-5f85b8e45d8e"
      },
      "execution_count": null,
      "outputs": [
        {
          "output_type": "execute_result",
          "data": {
            "text/plain": [
              "(4.47213595499958, 4.47213595499958)"
            ]
          },
          "metadata": {},
          "execution_count": 41
        }
      ]
    }
  ]
}