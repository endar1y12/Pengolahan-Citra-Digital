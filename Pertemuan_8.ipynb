{
  "nbformat": 4,
  "nbformat_minor": 0,
  "metadata": {
    "colab": {
      "provenance": [],
      "authorship_tag": "ABX9TyM1nQqAF2hhC5FV6NsyKVnb",
      "include_colab_link": true
    },
    "kernelspec": {
      "name": "python3",
      "display_name": "Python 3"
    },
    "language_info": {
      "name": "python"
    }
  },
  "cells": [
    {
      "cell_type": "markdown",
      "metadata": {
        "id": "view-in-github",
        "colab_type": "text"
      },
      "source": [
        "<a href=\"https://colab.research.google.com/github/endar1y12/Pengolahan-Citra-Digital/blob/main/Pertemuan_8.ipynb\" target=\"_parent\"><img src=\"https://colab.research.google.com/assets/colab-badge.svg\" alt=\"Open In Colab\"/></a>"
      ]
    },
    {
      "cell_type": "markdown",
      "source": [
        "**Perbedaan konvolusi dan Morfologi**\n",
        "\n",
        "Konvolusi : dikali dan dijumlah semua untuk menggantikan nilai tengah (rgb 0 - 255)\n",
        "\n",
        "morfologi : nilai structur elemen bernilai 1 untuk perhitungan dikalikan dan dijumlahkan semua dan hasil maksimalnya 9 (biner 0-1)\n",
        "\n",
        "Morfologi erosi\n",
        "\n",
        "0= hit/miss\n",
        "\n",
        "1= fit jika jumlah total = ukuran dari structur dari elemen\n",
        "\n",
        "contoh: structur elemen 3x3 maka jumlah total = 9\n",
        "\n",
        "Morfologi Dilasi\n",
        "\n",
        "0= miss\n",
        "\n",
        "1= hit/fit\n"
      ],
      "metadata": {
        "id": "rd_Fg8v0W6VS"
      }
    },
    {
      "cell_type": "code",
      "source": [],
      "metadata": {
        "id": "GGFZViWTIlqV"
      },
      "execution_count": null,
      "outputs": []
    },
    {
      "cell_type": "markdown",
      "source": [
        "#Data\n"
      ],
      "metadata": {
        "id": "g1I0l8y0SbIc"
      }
    },
    {
      "cell_type": "code",
      "source": [
        "from keras.datasets import mnist #untuk mengambil gambar biasanya terkebal digunakan untuk mechine learning\n",
        "\n",
        "(xtrain,_), (xtest,_)= mnist.load_data()\n",
        "\n",
        "\n"
      ],
      "metadata": {
        "id": "RObDy4yISoiM",
        "colab": {
          "base_uri": "https://localhost:8080/"
        },
        "outputId": "01ba25f5-6abe-474a-8030-b943eb7245f5"
      },
      "execution_count": null,
      "outputs": [
        {
          "output_type": "stream",
          "name": "stdout",
          "text": [
            "Downloading data from https://storage.googleapis.com/tensorflow/tf-keras-datasets/mnist.npz\n",
            "11490434/11490434 [==============================] - 0s 0us/step\n"
          ]
        }
      ]
    },
    {
      "cell_type": "code",
      "source": [
        "import matplotlib.pyplot as plt\n",
        "\n",
        "img_a = xtrain[2]\n",
        "plt.imshow(img_a,cmap=plt.cm.gray)\n",
        "print(img_a.shape)"
      ],
      "metadata": {
        "colab": {
          "base_uri": "https://localhost:8080/",
          "height": 282
        },
        "id": "K940C3x1T0Sb",
        "outputId": "ea4ab65c-3f1e-4b50-e2f2-537925d75e76"
      },
      "execution_count": null,
      "outputs": [
        {
          "output_type": "stream",
          "name": "stdout",
          "text": [
            "(28, 28)\n"
          ]
        },
        {
          "output_type": "display_data",
          "data": {
            "text/plain": [
              "<Figure size 432x288 with 1 Axes>"
            ],
            "image/png": "[encoded data removed]"
          },
          "metadata": {
            "needs_background": "light"
          }
        }
      ]
    },
    {
      "cell_type": "code",
      "source": [
        "img_a[img > 0] = 1\n",
        "plt.imshow(img_a,cmap=plt.cm.gray)"
      ],
      "metadata": {
        "colab": {
          "base_uri": "https://localhost:8080/",
          "height": 282
        },
        "id": "KO-tLDgOU1aa",
        "outputId": "9f85173d-f972-4e60-e6c1-d0cfb851a6c6"
      },
      "execution_count": null,
      "outputs": [
        {
          "output_type": "execute_result",
          "data": {
            "text/plain": [
              "<matplotlib.image.AxesImage at 0x7fe2e392ba90>"
            ]
          },
          "metadata": {},
          "execution_count": 9
        },
        {
          "output_type": "display_data",
          "data": {
            "text/plain": [
              "<Figure size 432x288 with 1 Axes>"
            ],
            "image/png": "[encoded data removed]"
          },
          "metadata": {
            "needs_background": "light"
          }
        }
      ]
    },
    {
      "cell_type": "markdown",
      "source": [
        "#Operasi Erosi\n"
      ],
      "metadata": {
        "id": "WA947WrCRyO2"
      }
    },
    {
      "cell_type": "code",
      "execution_count": null,
      "metadata": {
        "colab": {
          "base_uri": "https://localhost:8080/",
          "height": 408
        },
        "id": "UCIt6GYpPRgK",
        "outputId": "10a53344-0488-4605-9462-c20a6ea09bc6"
      },
      "outputs": [
        {
          "output_type": "stream",
          "name": "stdout",
          "text": [
            "[[ 8  8  8 ... 18 19 18]\n",
            " [ 8  8  8 ... 18 18 18]\n",
            " [ 8  8  8 ... 17 18 17]\n",
            " ...\n",
            " [16 16 16 ... 26 26 26]\n",
            " [16 16 16 ... 27 27 26]\n",
            " [16 16 16 ... 27 27 26]]\n"
          ]
        },
        {
          "output_type": "execute_result",
          "data": {
            "text/plain": [
              "<matplotlib.image.AxesImage at 0x7f26f9ed9490>"
            ]
          },
          "metadata": {},
          "execution_count": 10
        },
        {
          "output_type": "display_data",
          "data": {
            "text/plain": [
              "<Figure size 432x288 with 1 Axes>"
            ],
            "image/png": "[encoded data removed]"
          },
          "metadata": {
            "needs_background": "light"
          }
        }
      ],
      "source": [
        "import math\n",
        "import numpy as np\n",
        "import cv2\n",
        "\n",
        "image = cv2.imread('/content/pexels-bess-hamiti-35537.jpg',0)\n",
        "print(image)\n",
        "\n",
        "def erosi(img,struc):\n",
        "#jumlah padding\n",
        "  pad_size = math.floor(struc.shape[0]/2)\n",
        "#buat gambar baru\n",
        "  img_padd = np.zeros((img.shape[0]+2*pad_size,img.shape[1]+2*pad_size))\n",
        "#gambar lama masuk kedalam gambar ke padding\n",
        "  for r in range(img.shape[0]):\n",
        "    for c in range (img.shape[1]):\n",
        "      img_padd[r+pad_size,c+pad_size] = img[r,c]\n",
        "#apply erosi\n",
        "  img_akhir = np.zeros((img.shape[0],img.shape[1]))\n",
        "  for r in range(img_akhir.shape[0]):\n",
        "     for c in range (img_akhir.shape[1]):\n",
        "       for i in range(struc.shape[0]):\n",
        "         for j in range (struc.shape[1]):\n",
        "           img_akhir[r,c] +=struc[i,j]*img_padd[r+i,c+j]\n",
        "       if img_akhir[r,c] == struc.shape[0]*struc.shape[1]:\n",
        "          img_akhir[r,c] = 1\n",
        "       else:\n",
        "          img_akhir[r,c] = 0\n",
        "\n",
        "        #######\n",
        "        #jika hit/miss -> 0\n",
        "        #jika fit -> 1\n",
        "        #######\n",
        "  return img_akhir\n",
        "\n",
        "struc_elem = np.ones([3,3])\n",
        "# print(struc_elem)\n",
        "\n",
        "img_erosi = erosi(image,struc_elem)\n",
        "\n",
        "plt.imshow(img_erosi,cmap= plt.cm.gray)\n"
      ]
    },
    {
      "cell_type": "markdown",
      "source": [
        "#Operasi Dilasi"
      ],
      "metadata": {
        "id": "WsA-slGER4sm"
      }
    },
    {
      "cell_type": "code",
      "source": [
        "import math\n",
        "import numpy as np\n",
        "import cv2\n",
        "import matplotlib.pyplot as plt\n",
        "\n",
        "\n",
        "image = cv2.imread('pexels-bess-hamiti-35537.jpg',0)\n",
        "print(image)\n",
        "def dilasi(img,struc):\n",
        "#jumlah padding\n",
        "  pad_size = math.floor(struc.shape[0]/2)\n",
        "#buat gambar baru\n",
        "  img_padd = np.zeros((img.shape[0]+2*pad_size,img.shape[1]+2*pad_size))\n",
        "#gambar lama masuk kedalam gambar ke padding\n",
        "  for r in range(img.shape[0]):\n",
        "    for c in range (img.shape[1]):\n",
        "      img_padd[r+pad_size,c+pad_size] = img[r,c]\n",
        "#apply dilasi\n",
        "  img_akhir = np.zeros((img.shape[0],img.shape[1]))\n",
        "  for r in range(img_akhir.shape[0]):\n",
        "     for c in range (img_akhir.shape[1]):\n",
        "       for i in range(struc.shape[0]):\n",
        "         for j in range (struc.shape[1]):\n",
        "           img_akhir[r,c] +=struc[i,j]*img_padd[r+i,c+j]\n",
        "       if img_akhir[r,c] > 0:\n",
        "          img_akhir[r,c] = 1\n",
        "       else:\n",
        "          img_akhir[r,c] = 0\n",
        "\n",
        "        #######\n",
        "        #jika miss -> 0\n",
        "        #jika fit/hit -> 1\n",
        "        #######\n",
        "  return img_akhir\n",
        "\n",
        "struc_elem = np.ones([3,3])\n",
        "# print(struc_elem)\n",
        "\n",
        "img_dilasi  = dilasi(image,struc_elem)\n",
        "plt.imshow(img_dilasi,cmap= plt.cm.gray)"
      ],
      "metadata": {
        "colab": {
          "base_uri": "https://localhost:8080/",
          "height": 408
        },
        "id": "KnblMD1Pdnb4",
        "outputId": "e842389f-31bf-4982-9bcd-0cf8a7f9af67"
      },
      "execution_count": null,
      "outputs": [
        {
          "output_type": "stream",
          "name": "stdout",
          "text": [
            "[[ 8  8  8 ... 18 19 18]\n",
            " [ 8  8  8 ... 18 18 18]\n",
            " [ 8  8  8 ... 17 18 17]\n",
            " ...\n",
            " [16 16 16 ... 26 26 26]\n",
            " [16 16 16 ... 27 27 26]\n",
            " [16 16 16 ... 27 27 26]]\n"
          ]
        },
        {
          "output_type": "execute_result",
          "data": {
            "text/plain": [
              "<matplotlib.image.AxesImage at 0x7f26fa499ac0>"
            ]
          },
          "metadata": {},
          "execution_count": 7
        },
        {
          "output_type": "display_data",
          "data": {
            "text/plain": [
              "<Figure size 432x288 with 1 Axes>"
            ],
            "image/png": "[encoded data removed]"
          },
          "metadata": {
            "needs_background": "light"
          }
        }
      ]
    },
    {
      "cell_type": "markdown",
      "source": [
        "#Opening = Erosi -> Dilasi\n"
      ],
      "metadata": {
        "id": "PUeCQ2bER8iL"
      }
    },
    {
      "cell_type": "code",
      "source": [
        "def opening(img,struc):\n",
        "  return dilasi(erosi(img,struc),struc)\n",
        "\n",
        "struc_elem = np.ones([3,3])\n",
        "img_op = opening(image,struc_elem)\n",
        "\n",
        "plt.imshow(img_op,cmap=plt.cm.gray)"
      ],
      "metadata": {
        "colab": {
          "base_uri": "https://localhost:8080/",
          "height": 286
        },
        "id": "QquaEXZXnV8s",
        "outputId": "408043ea-80e8-404c-a94b-33a595ab76b3"
      },
      "execution_count": null,
      "outputs": [
        {
          "output_type": "execute_result",
          "data": {
            "text/plain": [
              "<matplotlib.image.AxesImage at 0x7f26f9eb08e0>"
            ]
          },
          "metadata": {},
          "execution_count": 11
        },
        {
          "output_type": "display_data",
          "data": {
            "text/plain": [
              "<Figure size 432x288 with 1 Axes>"
            ],
            "image/png": "[encoded data removed]"
          },
          "metadata": {
            "needs_background": "light"
          }
        }
      ]
    },
    {
      "cell_type": "markdown",
      "source": [
        "#Closeing = Dilasi -> Erosi\n"
      ],
      "metadata": {
        "id": "6tGNCnTDSBhE"
      }
    },
    {
      "cell_type": "code",
      "source": [
        "def closeing(img,struc):\n",
        "  return erosi(dilasi(img,struc),struc)\n",
        "\n",
        "struc_elem = np.ones([3,3])\n",
        "img_cl = closeing(image,struc_elem)\n",
        "\n",
        "plt.imshow(img_cl,cmap=plt.cm.gray)"
      ],
      "metadata": {
        "colab": {
          "base_uri": "https://localhost:8080/"
        },
        "id": "KyCpo6ihoXAs",
        "outputId": "2b3b6bd5-8214-49b6-d52d-6915f6799ed0"
      },
      "execution_count": null,
      "outputs": [
        {
          "output_type": "execute_result",
          "data": {
            "text/plain": [
              "<matplotlib.image.AxesImage at 0x7f26f9e8d790>"
            ]
          },
          "metadata": {},
          "execution_count": 12
        },
        {
          "output_type": "display_data",
          "data": {
            "text/plain": [
              "<Figure size 432x288 with 1 Axes>"
            ],
            "image/png": "[encoded data removed]"
          },
          "metadata": {
            "needs_background": "light"
          }
        }
      ]
    }
  ]
}